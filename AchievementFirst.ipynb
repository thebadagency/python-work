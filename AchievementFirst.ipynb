{
 "cells": [
  {
   "cell_type": "code",
   "execution_count": 15,
   "id": "80d17159",
   "metadata": {},
   "outputs": [
    {
     "name": "stderr",
     "output_type": "stream",
     "text": [
      "2023-07-25 15:34:22 INFO: Calendar data loaded successfully.\n",
      "2023-07-25 15:34:23 INFO: Person data loaded successfully.\n",
      "2023-07-25 15:34:23 INFO: School data loaded successfully.\n",
      "2023-07-25 15:34:23 INFO: Enrollment data loaded successfully.\n",
      "2023-07-25 15:34:24 INFO: Schoolyear data loaded successfully.\n"
     ]
    }
   ],
   "source": [
    "import pandas as pd\n",
    "import sqlite3\n",
    "import logging\n",
    "\n",
    "# Set up logging\n",
    "logging.basicConfig(level=logging.INFO,\n",
    "                    format='%(asctime)s %(levelname)s: %(message)s',\n",
    "                    datefmt='%Y-%m-%d %H:%M:%S')\n",
    "\n",
    "# Load the data into pandas DataFrames\n",
    "try:\n",
    "    calendar = pd.read_csv('https://af-data-engineer-technical-exercise.s3.us-east-2.amazonaws.com/calendar.csv')\n",
    "    logging.info('Calendar data loaded successfully.')\n",
    "    \n",
    "    person = pd.read_csv('https://af-data-engineer-technical-exercise.s3.us-east-2.amazonaws.com/person.csv')\n",
    "    logging.info('Person data loaded successfully.')\n",
    "    \n",
    "    school = pd.read_csv('https://af-data-engineer-technical-exercise.s3.us-east-2.amazonaws.com/school.csv')\n",
    "    logging.info('School data loaded successfully.')\n",
    "    \n",
    "    enrollment = pd.read_csv('https://af-data-engineer-technical-exercise.s3.us-east-2.amazonaws.com/enrollment.csv')\n",
    "    logging.info('Enrollment data loaded successfully.')\n",
    "    \n",
    "    schoolyear = pd.read_csv('https://af-data-engineer-technical-exercise.s3.us-east-2.amazonaws.com/schoolyear.csv')\n",
    "    logging.info('Schoolyear data loaded successfully.')\n",
    "except Exception as e:\n",
    "    logging.error(f\"Error loading data: {e}\")\n"
   ]
  },
  {
   "cell_type": "code",
   "execution_count": 8,
   "id": "5831ac44",
   "metadata": {},
   "outputs": [
    {
     "name": "stderr",
     "output_type": "stream",
     "text": [
      "2023-07-25 09:07:31 INFO: Calendar data loaded into SQLite database.\n",
      "2023-07-25 09:07:31 INFO: Person data loaded into SQLite database.\n",
      "2023-07-25 09:07:31 INFO: School data loaded into SQLite database.\n",
      "2023-07-25 09:07:31 INFO: Enrollment data loaded into SQLite database.\n",
      "2023-07-25 09:07:31 INFO: Schoolyear data loaded into SQLite database.\n"
     ]
    }
   ],
   "source": [
    "try:\n",
    "    # Connect to the database\n",
    "    conn = sqlite3.connect('ic.db')\n",
    "\n",
    "    # Load the data into the database\n",
    "    calendar.to_sql('calendar', conn, if_exists='replace', index=False)\n",
    "    logging.info('Calendar data loaded into SQLite database.')\n",
    "    \n",
    "    person.to_sql('person', conn, if_exists='replace', index=False)\n",
    "    logging.info('Person data loaded into SQLite database.')\n",
    "    \n",
    "    school.to_sql('school', conn, if_exists='replace', index=False)\n",
    "    logging.info('School data loaded into SQLite database.')\n",
    "    \n",
    "    enrollment.to_sql('enrollment', conn, if_exists='replace', index=False)\n",
    "    logging.info('Enrollment data loaded into SQLite database.')\n",
    "    \n",
    "    schoolyear.to_sql('schoolyear', conn, if_exists='replace', index=False)\n",
    "    logging.info('Schoolyear data loaded into SQLite database.')\n",
    "\n",
    "    # Close the connection\n",
    "    conn.close()\n",
    "except Exception as e:\n",
    "    logging.error(f\"Error loading data into SQLite database: {e}\")\n"
   ]
  },
  {
   "cell_type": "code",
   "execution_count": 16,
   "id": "30fd7923",
   "metadata": {},
   "outputs": [
    {
     "name": "stderr",
     "output_type": "stream",
     "text": [
      "2023-07-25 15:34:28 INFO: Column names for table calendar match between the SQLite database and the original DataFrame.\n",
      "2023-07-25 15:34:28 INFO: Column names: calendarid, schoolid, calendar_startdate, calendar_enddate, endyear\n",
      "2023-07-25 15:34:28 INFO: Column names for table person match between the SQLite database and the original DataFrame.\n",
      "2023-07-25 15:34:28 INFO: Column names: personid, firstname, lastname\n",
      "2023-07-25 15:34:28 INFO: Column names for table school match between the SQLite database and the original DataFrame.\n",
      "2023-07-25 15:34:28 INFO: Column names: schoolid, zip, name\n",
      "2023-07-25 15:34:28 INFO: Column names for table enrollment match between the SQLite database and the original DataFrame.\n",
      "2023-07-25 15:34:28 INFO: Column names: enrollmentid, personid, calendarid, grade, startdate, enddate\n",
      "2023-07-25 15:34:28 INFO: Column names for table schoolyear match between the SQLite database and the original DataFrame.\n",
      "2023-07-25 15:34:28 INFO: Column names: startyear, endyear, label, active\n"
     ]
    }
   ],
   "source": [
    "#Test the loading process by querying the database and checking the column names\n",
    "# Connect to the database\n",
    "conn = sqlite3.connect('ic.db')\n",
    "\n",
    "# Create a cursor object\n",
    "cursor = conn.cursor()\n",
    "\n",
    "# List of table names\n",
    "tables = ['calendar', 'person', 'school', 'enrollment', 'schoolyear']\n",
    "\n",
    "# For each table, execute a SQL query to fetch the column names and compare them with the DataFrame columns\n",
    "for table in tables:\n",
    "    cursor.execute(f\"PRAGMA table_info({table});\")\n",
    "    columns_db = [column[1] for column in cursor.fetchall()]\n",
    "    columns_df = eval(table).columns.tolist()\n",
    "    if columns_db == columns_df:\n",
    "        logging.info(f\"Column names for table {table} match between the SQLite database and the original DataFrame.\")\n",
    "        logging.info(f\"Column names: {', '.join(columns_db)}\")\n",
    "    else:\n",
    "        logging.error(f\"Columns do not match for table {table}.\")\n",
    "        logging.error(f\"Columns in SQLite database: {', '.join(columns_db)}\")\n",
    "        logging.error(f\"Columns in original DataFrame: {', '.join(columns_df)}\")\n",
    "\n",
    "# Close the connection\n",
    "conn.close()"
   ]
  },
  {
   "cell_type": "code",
   "execution_count": 17,
   "id": "ce114fa0",
   "metadata": {},
   "outputs": [],
   "source": [
    "#Write a function that will execute a SQL query and save changes to the database.\n",
    "def execute_sql_query(db_name, query):\n",
    "    conn = sqlite3.connect(db_name)\n",
    "    cursor = conn.cursor()\n",
    "    try:\n",
    "        cursor.execute(query)\n",
    "        conn.commit()\n",
    "        logging.info(f\"SQL query executed successfully: {query}\")\n",
    "    except Exception as e:\n",
    "        logging.error(f\"Error executing SQL query: {query}\")\n",
    "        logging.error(e)\n",
    "    finally:\n",
    "        conn.close()"
   ]
  },
  {
   "cell_type": "code",
   "execution_count": 18,
   "id": "07a707fd",
   "metadata": {},
   "outputs": [],
   "source": [
    "#Write a function that will execute a SQL query and save changes to the database.\n",
    "\n",
    "def execute_sql_query(db_name, query):\n",
    "    try:\n",
    "        conn = sqlite3.connect(db_name)\n",
    "        cursor = conn.cursor()\n",
    "        cursor.execute(query)\n",
    "        conn.commit()\n",
    "        conn.close()\n",
    "        logging.info(f\"SQL query executed successfully: {query}\")\n",
    "    except Exception as e:\n",
    "        logging.error(f\"Error executing SQL query: {e}\")\n"
   ]
  },
  {
   "cell_type": "code",
   "execution_count": 19,
   "id": "faed8a95",
   "metadata": {},
   "outputs": [
    {
     "name": "stderr",
     "output_type": "stream",
     "text": [
      "2023-07-25 15:38:45 INFO: SQL query executed successfully: UPDATE schoolyear SET active = 1 WHERE startyear = 2020\n"
     ]
    }
   ],
   "source": [
    "#Update the schoolyear table to set the active schoolyear to 2020 using the above function.\n",
    "def execute_sql_query(db_name, query):\n",
    "    conn = sqlite3.connect(db_name)\n",
    "    cursor = conn.cursor()\n",
    "    try:\n",
    "        cursor.execute(query)\n",
    "        conn.commit()\n",
    "        logging.info(f\"SQL query executed successfully: {query}\")\n",
    "    except Exception as e:\n",
    "        logging.error(f\"Error executing SQL query: {query}\")\n",
    "        logging.error(e)\n",
    "    finally:\n",
    "        conn.close()\n",
    "\n",
    "# The SQL query to update the schoolyear table\n",
    "update_query = \"UPDATE schoolyear SET active = 1 WHERE startyear = 2020\"\n",
    "\n",
    "# Use the function to execute the update query\n",
    "execute_sql_query('ic.db', update_query)\n",
    "\n"
   ]
  },
  {
   "cell_type": "code",
   "execution_count": 30,
   "id": "90005c19",
   "metadata": {},
   "outputs": [
    {
     "name": "stderr",
     "output_type": "stream",
     "text": [
      "2023-07-25 19:24:54 INFO: SQL query executed successfully: \n",
      "SELECT COUNT(DISTINCT e.personid)\n",
      "FROM enrollment e\n",
      "JOIN calendar c ON e.calendarid = c.calendarid\n",
      "JOIN schoolyear sy ON c.endyear = sy.endyear\n",
      "WHERE sy.active = 1;\n",
      "\n",
      "2023-07-25 19:24:54 INFO: The number of unique students enrolled in the active school year is: 15760\n",
      "2023-07-25 19:24:54 INFO: SQL query executed successfully: \n",
      "SELECT COUNT(DISTINCT e.personid)\n",
      "FROM enrollment e\n",
      "JOIN calendar c ON e.calendarid = c.calendarid\n",
      "JOIN school s ON c.schoolid = s.schoolid\n",
      "WHERE s.name LIKE '%bp%' AND e.startdate <= '2019-10-01' AND (e.enddate > '2019-10-01' OR e.enddate IS NULL);\n",
      "2023-07-25 19:24:54 INFO: The number of students enrolled in school bp as of 10/1/2019 is: 88\n",
      "2023-07-25 19:24:54 INFO: SQL query executed successfully: \n",
      "SELECT e.personid, MAX(e.startdate) as latest_startdate\n",
      "FROM enrollment e\n",
      "JOIN calendar c ON e.calendarid = c.calendarid\n",
      "WHERE c.endyear = 2020\n",
      "GROUP BY e.personid\n",
      "HAVING COUNT(e.enrollmentid) > 1\n",
      "ORDER BY latest_startdate DESC \n",
      "LIMIT 3;\n",
      "\n",
      "2023-07-25 19:24:54 INFO: The 3 students with the most recent startdate of the students that have multiple enrollments in the active school year are:\n",
      "2023-07-25 19:24:54 INFO: Person ID: 137670, Latest Start Date: 2020-04-20\n",
      "2023-07-25 19:24:54 INFO: Person ID: 76221, Latest Start Date: 2020-04-20\n",
      "2023-07-25 19:24:54 INFO: Person ID: 145228, Latest Start Date: 2020-02-24\n"
     ]
    }
   ],
   "source": [
    "#Execute the SQL queries to answer the questions.\n",
    "#1. How many unique students are enrolled in the active school year?\n",
    "\n",
    "def fetch_sql_query(db_name, query):\n",
    "    conn = sqlite3.connect(db_name)\n",
    "    cursor = conn.cursor()\n",
    "    try:\n",
    "        cursor.execute(query)\n",
    "        rows = cursor.fetchall()\n",
    "        logging.info(f\"SQL query executed successfully: {query}\")\n",
    "        return rows\n",
    "    except Exception as e:\n",
    "        logging.error(f\"Error executing SQL query: {query}\")\n",
    "        logging.error(e)\n",
    "        return None\n",
    "    finally:\n",
    "        conn.close()\n",
    "        \n",
    "query1 = \"\"\"\n",
    "SELECT COUNT(DISTINCT e.personid)\n",
    "FROM enrollment e\n",
    "JOIN calendar c ON e.calendarid = c.calendarid\n",
    "JOIN schoolyear sy ON c.endyear = sy.endyear\n",
    "WHERE sy.active = 1;\n",
    "\"\"\"\n",
    "\n",
    "result1 = fetch_sql_query(db_name, query1)\n",
    "logging.info(f\"The number of unique students enrolled in the active school year is: {result1[0][0]}\")\n",
    "\n",
    "\n",
    "#Question 2 of SQL\n",
    "#How many students were enrolled in school bp as of 10/1/2019?\n",
    "\n",
    "query2 = \"\"\"\n",
    "SELECT COUNT(DISTINCT e.personid)\n",
    "FROM enrollment e\n",
    "JOIN calendar c ON e.calendarid = c.calendarid\n",
    "JOIN school s ON c.schoolid = s.schoolid\n",
    "WHERE s.name LIKE '%bp%' AND e.startdate <= '2019-10-01' AND (e.enddate > '2019-10-01' OR e.enddate IS NULL);\"\"\"\n",
    "\n",
    "result2 = fetch_sql_query(db_name, query2)\n",
    "logging.info(f\"The number of students enrolled in school bp as of 10/1/2019 is: {result2[0][0]}\")\n",
    "\n",
    "#Question 3 of SQL\n",
    "#Who are the 3 students with the most recent startdate of the students that have multiple enrollments in the active school year?\n",
    "\n",
    "query3 = \"\"\"\n",
    "SELECT e.personid, MAX(e.startdate) as latest_startdate\n",
    "FROM enrollment e\n",
    "JOIN calendar c ON e.calendarid = c.calendarid\n",
    "WHERE c.endyear = 2020\n",
    "GROUP BY e.personid\n",
    "HAVING COUNT(e.enrollmentid) > 1\n",
    "ORDER BY latest_startdate DESC \n",
    "LIMIT 3;\n",
    "\"\"\"\n",
    "\n",
    "result3 = fetch_sql_query(db_name, query3)\n",
    "logging.info(\"The 3 students with the most recent startdate of the students that have multiple enrollments in the active school year are:\")\n",
    "for row in result3:\n",
    "    logging.info(f\"Person ID: {row[0]}, Latest Start Date: {row[1]}\")\n"
   ]
  },
  {
   "cell_type": "code",
   "execution_count": 37,
   "id": "3d81eaf5",
   "metadata": {
    "scrolled": true
   },
   "outputs": [
    {
     "name": "stderr",
     "output_type": "stream",
     "text": [
      "2023-07-25 20:47:11 INFO: Added 'city' column to 'school' dataframe\n",
      "2023-07-25 20:47:11 INFO: Added final_enddate to the enrollment dataframe.\n",
      "2023-07-25 20:47:12 INFO: Exported 'active_enrollment' dataframe to CSV\n"
     ]
    },
    {
     "name": "stdout",
     "output_type": "stream",
     "text": [
      "   schoolid   zip name       city\n",
      "0        28  6511   aa  New Haven\n",
      "1        29  6511   ab  New Haven\n",
      "2        30  6511   ac  New Haven\n",
      "3        31  6513   ad  New Haven\n",
      "4        32  6513   ae  New Haven\n",
      "   enrollmentid  personid  calendarid grade   startdate enddate final_enddate\n",
      "0        100268     24646         332    04  2018-08-16     NaN    2019-06-14\n",
      "1        100093     26658         332    04  2018-08-16     NaN    2019-06-14\n",
      "2        100228     30559         332    03  2018-08-16     NaN    2019-06-14\n",
      "3        100238     32384         332    03  2018-08-16     NaN    2019-06-14\n",
      "4        100184     32389         332    03  2018-08-16     NaN    2019-06-14\n",
      "   schoolid schoolname  endyear       city final_enddate\n",
      "0        28         aa     2019  New Haven    2019-06-14\n",
      "1        28         aa     2019  New Haven    2019-06-14\n",
      "2        28         aa     2019  New Haven    2019-06-14\n",
      "3        28         aa     2019  New Haven    2019-06-14\n",
      "4        28         aa     2019  New Haven    2019-06-14\n"
     ]
    }
   ],
   "source": [
    "##################\n",
    "################PYTHON PYTHON PYTHON PYTHON ##########################\n",
    "######################################################################\n",
    "######################################################################\n",
    "\n",
    "#Using the dataframes previously created\n",
    "###\n",
    "###\n",
    "###     Add city to the School df: API    ####\n",
    "\n",
    "import requests\n",
    "def get_city(zip_code):\n",
    "    try:\n",
    "        # Pad the zip code with a leading zero if necessary\n",
    "        zip_code = str(zip_code).zfill(5)\n",
    "        response = requests.get(f'http://api.zippopotam.us/us/{zip_code}')\n",
    "        data = response.json()\n",
    "        return data['places'][0]['place name']\n",
    "    except Exception as e:\n",
    "        logging.error(f\"Error getting city for zip code {zip_code}: {e}\")\n",
    "        return None\n",
    "\n",
    "# Create a new dataframe from the existing school dataframe\n",
    "school_df_new = school.copy()\n",
    "\n",
    "# Add the city column\n",
    "school_df_new['city'] = school_df_new['zip'].apply(get_city)\n",
    "\n",
    "# Print the result and log it\n",
    "print(school_df_new.head())\n",
    "logging.info(f\"Added 'city' column to 'school' dataframe\")\n",
    "\n",
    "\n",
    "###########################\n",
    "######\n",
    "###       Add final_enddate to the Enrollment df: Input missing Data ####\n",
    "##########################\n",
    "# Create a new dataframe from the existing enrollment dataframe\n",
    "enrollment_df_new = enrollment.copy()\n",
    "\n",
    "# Add the final_enddate column\n",
    "enrollment_df_new['final_enddate'] = enrollment_df_new['enddate'].fillna(enrollment_df_new['calendarid'].map(calendar.set_index('calendarid')['calendar_enddate']))\n",
    "\n",
    "# Print the result and log it\n",
    "print(enrollment_df_new.head())\n",
    "logging.info(\"Added final_enddate to the enrollment dataframe.\")\n",
    "\n",
    "\n",
    "###########################\n",
    "######\n",
    "###       Export active enrollment back to the projects folder####\n",
    "##########################\n",
    "# Merge the enrollment df with the calendar df using the 'calendarid' column\n",
    "merged_df = pd.merge(enrollment_df_new, calendar, left_on='calendarid', right_on='calendarid')\n",
    "\n",
    "# Merge the resulting df with the school df using the 'schoolid' column\n",
    "active_enrollment_df = pd.merge(merged_df, school_df_new, left_on='schoolid', right_on='schoolid')\n",
    "\n",
    "# Select only the columns we need\n",
    "columns_to_keep = ['schoolid', 'name', 'endyear', 'city', 'final_enddate']\n",
    "active_enrollment_df = active_enrollment_df[columns_to_keep]\n",
    "\n",
    "# Rename the 'name' column to 'schoolname'\n",
    "active_enrollment_df = active_enrollment_df.rename(columns={'name': 'schoolname'})\n",
    "\n",
    "# Export the resulting df as a csv\n",
    "active_enrollment_df.to_csv('active_enrollment.csv', index=False)\n",
    "\n",
    "# Print the result and log it\n",
    "print(active_enrollment_df.head())\n",
    "logging.info(f\"Exported 'active_enrollment' dataframe to CSV\")\n"
   ]
  },
  {
   "cell_type": "code",
   "execution_count": 33,
   "id": "c06f8aa1",
   "metadata": {},
   "outputs": [
    {
     "name": "stdout",
     "output_type": "stream",
     "text": [
      "Index(['enrollmentid', 'personid', 'calendarid', 'grade', 'startdate',\n",
      "       'enddate'],\n",
      "      dtype='object')\n"
     ]
    }
   ],
   "source": [
    "print(enrollment.columns)"
   ]
  },
  {
   "cell_type": "code",
   "execution_count": 34,
   "id": "0bd35ec5",
   "metadata": {},
   "outputs": [
    {
     "name": "stdout",
     "output_type": "stream",
     "text": [
      "Index(['calendarid', 'schoolid', 'calendar_startdate', 'calendar_enddate',\n",
      "       'endyear'],\n",
      "      dtype='object')\n"
     ]
    }
   ],
   "source": [
    "print(calendar.columns)"
   ]
  },
  {
   "cell_type": "code",
   "execution_count": null,
   "id": "2cb4cec2",
   "metadata": {},
   "outputs": [],
   "source": []
  }
 ],
 "metadata": {
  "kernelspec": {
   "display_name": "Python 3 (ipykernel)",
   "language": "python",
   "name": "python3"
  },
  "language_info": {
   "codemirror_mode": {
    "name": "ipython",
    "version": 3
   },
   "file_extension": ".py",
   "mimetype": "text/x-python",
   "name": "python",
   "nbconvert_exporter": "python",
   "pygments_lexer": "ipython3",
   "version": "3.10.6"
  }
 },
 "nbformat": 4,
 "nbformat_minor": 5
}
